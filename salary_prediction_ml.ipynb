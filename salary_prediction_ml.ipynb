{
 "cells": [
  {
   "cell_type": "code",
   "execution_count": 1,
   "id": "81479582",
   "metadata": {},
   "outputs": [],
   "source": [
    "import numpy as np    #numpy is a library for making computations\n",
    "import matplotlib.pyplot as plt    #it is a 2D plotting library\n",
    "import pandas as pd    # pandas is mainly used for data analysis\n",
    "import seaborn as sns    # data visualization library\n",
    "%matplotlib inline \n",
    "#magic function to embed all the graphs in the python notebook"
   ]
  },
  {
   "cell_type": "code",
   "execution_count": 2,
   "id": "6b064d47",
   "metadata": {},
   "outputs": [],
   "source": [
    "#Import the salary dataset\n",
    "#Reading the csv file using the read_csv function of the pandas module\n",
    "df=pd.read_csv(\"E:/YOUTUBE_proj_Techtrends/Salary_Data.csv\")\n",
    "#The read_csv function converts the data into dataframe"
   ]
  },
  {
   "cell_type": "code",
   "execution_count": 3,
   "id": "23204da9",
   "metadata": {},
   "outputs": [
    {
     "data": {
      "text/html": [
       "<div>\n",
       "<style scoped>\n",
       "    .dataframe tbody tr th:only-of-type {\n",
       "        vertical-align: middle;\n",
       "    }\n",
       "\n",
       "    .dataframe tbody tr th {\n",
       "        vertical-align: top;\n",
       "    }\n",
       "\n",
       "    .dataframe thead th {\n",
       "        text-align: right;\n",
       "    }\n",
       "</style>\n",
       "<table border=\"1\" class=\"dataframe\">\n",
       "  <thead>\n",
       "    <tr style=\"text-align: right;\">\n",
       "      <th></th>\n",
       "      <th>YearsExperience</th>\n",
       "      <th>Salary</th>\n",
       "    </tr>\n",
       "  </thead>\n",
       "  <tbody>\n",
       "    <tr>\n",
       "      <th>0</th>\n",
       "      <td>1.1</td>\n",
       "      <td>39343.0</td>\n",
       "    </tr>\n",
       "    <tr>\n",
       "      <th>1</th>\n",
       "      <td>1.3</td>\n",
       "      <td>46205.0</td>\n",
       "    </tr>\n",
       "    <tr>\n",
       "      <th>2</th>\n",
       "      <td>1.5</td>\n",
       "      <td>37731.0</td>\n",
       "    </tr>\n",
       "    <tr>\n",
       "      <th>3</th>\n",
       "      <td>2.0</td>\n",
       "      <td>43525.0</td>\n",
       "    </tr>\n",
       "    <tr>\n",
       "      <th>4</th>\n",
       "      <td>2.2</td>\n",
       "      <td>39891.0</td>\n",
       "    </tr>\n",
       "  </tbody>\n",
       "</table>\n",
       "</div>"
      ],
      "text/plain": [
       "   YearsExperience   Salary\n",
       "0              1.1  39343.0\n",
       "1              1.3  46205.0\n",
       "2              1.5  37731.0\n",
       "3              2.0  43525.0\n",
       "4              2.2  39891.0"
      ]
     },
     "execution_count": 3,
     "metadata": {},
     "output_type": "execute_result"
    }
   ],
   "source": [
    "#Look how the data looks like\n",
    "#Lets print the first 5 rows of the dataframe\n",
    "df.head()"
   ]
  },
  {
   "cell_type": "code",
   "execution_count": 4,
   "id": "7fd337d5",
   "metadata": {},
   "outputs": [],
   "source": [
    "X=df.iloc[:,:-1].values\n",
    "#Storing the column 1 in X and column 2 in y\n",
    "y=df.iloc[:,:1].values"
   ]
  },
  {
   "cell_type": "code",
   "execution_count": 26,
   "id": "f096ad4b",
   "metadata": {},
   "outputs": [
    {
     "data": {
      "text/plain": [
       "<AxesSubplot:xlabel='YearsExperience'>"
      ]
     },
     "execution_count": 26,
     "metadata": {},
     "output_type": "execute_result"
    },
    {
     "data": {
      "image/png": "[encoded data removed]",
      "text/plain": [
       "<Figure size 432x288 with 1 Axes>"
      ]
     },
     "metadata": {
      "needs_background": "light"
     },
     "output_type": "display_data"
    }
   ],
   "source": [
    "sns.distplot(df['YearsExperience'],kde=False,bins=10)\n",
    "#This plot is used to represent univariate distribution of observations"
   ]
  },
  {
   "cell_type": "code",
   "execution_count": 8,
   "id": "c5a58a67",
   "metadata": {},
   "outputs": [
    {
     "data": {
      "text/plain": [
       "<AxesSubplot:xlabel='count', ylabel='YearsExperience'>"
      ]
     },
     "execution_count": 8,
     "metadata": {},
     "output_type": "execute_result"
    },
    {
     "data": {
      "image/png": "[encoded data removed]",
      "text/plain": [
       "<Figure size 432x288 with 1 Axes>"
      ]
     },
     "metadata": {
      "needs_background": "light"
     },
     "output_type": "display_data"
    }
   ],
   "source": [
    "#Show the counts of observations in each categorical bin using bars\n",
    "sns.countplot(y='YearsExperience',data=df)"
   ]
  },
  {
   "cell_type": "code",
   "execution_count": 9,
   "id": "0c8a2114",
   "metadata": {},
   "outputs": [
    {
     "data": {
      "text/plain": [
       "<AxesSubplot:xlabel='YearsExperience', ylabel='Salary'>"
      ]
     },
     "execution_count": 9,
     "metadata": {},
     "output_type": "execute_result"
    },
    {
     "data": {
      "image/png": "[encoded data removed]",
      "text/plain": [
       "<Figure size 432x288 with 1 Axes>"
      ]
     },
     "metadata": {
      "needs_background": "light"
     },
     "output_type": "display_data"
    }
   ],
   "source": [
    "#Plotting a barplot\n",
    "sns.barplot(x='YearsExperience',y='Salary',data=df)"
   ]
  },
  {
   "cell_type": "code",
   "execution_count": 10,
   "id": "b241ab5f",
   "metadata": {},
   "outputs": [
    {
     "data": {
      "text/plain": [
       "<AxesSubplot:>"
      ]
     },
     "execution_count": 10,
     "metadata": {},
     "output_type": "execute_result"
    },
    {
     "data": {
      "image/png": "[encoded data removed]",
      "text/plain": [
       "<Figure size 432x288 with 2 Axes>"
      ]
     },
     "metadata": {
      "needs_background": "light"
     },
     "output_type": "display_data"
    }
   ],
   "source": [
    "#Representing the correlation among the columns using a heatmap\n",
    "sns.heatmap(df.corr())"
   ]
  },
  {
   "cell_type": "code",
   "execution_count": 29,
   "id": "bdd0b884",
   "metadata": {},
   "outputs": [
    {
     "data": {
      "text/plain": [
       "<AxesSubplot:xlabel='Salary', ylabel='Density'>"
      ]
     },
     "execution_count": 29,
     "metadata": {},
     "output_type": "execute_result"
    },
    {
     "data": {
      "image/png": "[encoded data removed]",
      "text/plain": [
       "<Figure size 432x288 with 1 Axes>"
      ]
     },
     "metadata": {
      "needs_background": "light"
     },
     "output_type": "display_data"
    }
   ],
   "source": [
    "sns.distplot(df.Salary)"
   ]
  },
  {
   "cell_type": "markdown",
   "id": "61b440df",
   "metadata": {},
   "source": [
    "#### Now we will use the scikit learn package to create the Linear Regression model\n",
    "\n",
    "#### Split the data into training and testing set"
   ]
  },
  {
   "cell_type": "code",
   "execution_count": 13,
   "id": "a38bcfd7",
   "metadata": {},
   "outputs": [],
   "source": [
    "from sklearn.model_selection import train_test_split\n",
    "#splitting the data using this module and setting the test size as 1/3 . Rest 2/3 is used for training the data\n",
    "X_train,X_test,y_train,y_test=train_test_split(X,y,test_size=1/3,random_state=0)"
   ]
  },
  {
   "cell_type": "markdown",
   "id": "4ba89d72",
   "metadata": {},
   "source": [
    "#### Creating the Linear Regression Model and Fitting the training data"
   ]
  },
  {
   "cell_type": "code",
   "execution_count": 14,
   "id": "c0d251ae",
   "metadata": {},
   "outputs": [],
   "source": [
    "#importing the linear regression model\n",
    "from sklearn.linear_model import LinearRegression\n",
    "#creating the model\n",
    "lr=LinearRegression()"
   ]
  },
  {
   "cell_type": "code",
   "execution_count": 15,
   "id": "ef0230ca",
   "metadata": {},
   "outputs": [
    {
     "data": {
      "text/plain": [
       "LinearRegression()"
      ]
     },
     "execution_count": 15,
     "metadata": {},
     "output_type": "execute_result"
    }
   ],
   "source": [
    "lr.fit(X_train,y_train)\n",
    "#fitting the training data"
   ]
  },
  {
   "cell_type": "code",
   "execution_count": 16,
   "id": "30df1c2d",
   "metadata": {},
   "outputs": [
    {
     "data": {
      "text/plain": [
       "(20, 1)"
      ]
     },
     "execution_count": 16,
     "metadata": {},
     "output_type": "execute_result"
    }
   ],
   "source": [
    "X_train.shape \n",
    "#Counting the number of observations in the training data"
   ]
  },
  {
   "cell_type": "code",
   "execution_count": 17,
   "id": "16a572ca",
   "metadata": {},
   "outputs": [
    {
     "data": {
      "text/plain": [
       "(20, 1)"
      ]
     },
     "execution_count": 17,
     "metadata": {},
     "output_type": "execute_result"
    }
   ],
   "source": [
    "y_train.shape"
   ]
  },
  {
   "cell_type": "markdown",
   "id": "ac6dd4cf",
   "metadata": {},
   "source": [
    "#### Predicting the Test Results"
   ]
  },
  {
   "cell_type": "code",
   "execution_count": 18,
   "id": "a8f0bc46",
   "metadata": {},
   "outputs": [
    {
     "data": {
      "text/plain": [
       "array([[ 1.5],\n",
       "       [10.3],\n",
       "       [ 4.1],\n",
       "       [ 3.9],\n",
       "       [ 9.5],\n",
       "       [ 8.7],\n",
       "       [ 9.6],\n",
       "       [ 4. ],\n",
       "       [ 5.3],\n",
       "       [ 7.9]])"
      ]
     },
     "execution_count": 18,
     "metadata": {},
     "output_type": "execute_result"
    }
   ],
   "source": [
    "y_pred=lr.predict(X_test)\n",
    "y_pred\n",
    "#Predicted data"
   ]
  },
  {
   "cell_type": "markdown",
   "id": "3a26039b",
   "metadata": {},
   "source": [
    "#### Visualizing the training data\n",
    "\n",
    "#### Plotting the actual y training values VS the y values predicted by the model using training data"
   ]
  },
  {
   "cell_type": "code",
   "execution_count": 19,
   "id": "be5bca4e",
   "metadata": {},
   "outputs": [
    {
     "data": {
      "image/png": "[encoded data removed]",
      "text/plain": [
       "<Figure size 432x288 with 1 Axes>"
      ]
     },
     "metadata": {
      "needs_background": "light"
     },
     "output_type": "display_data"
    }
   ],
   "source": [
    "plt.scatter(X_train,y_train,color='blue')\n",
    "plt.plot(X_train,lr.predict(X_train),color='red')\n",
    "plt.title('Salary vs Years of Experience (Training Data)')\n",
    "plt.xlabel('Years of Experience')\n",
    "plt.ylabel('Salary of an employee')\n",
    "plt.show()"
   ]
  },
  {
   "cell_type": "markdown",
   "id": "d2f6ddf5",
   "metadata": {},
   "source": [
    "We see that the data is fitted so well and the predicted and actual data is almost the same\n",
    "\n",
    "### Visualizing the Test Data\n",
    "\n",
    "Plotting the y test data vs y predicted data"
   ]
  },
  {
   "cell_type": "code",
   "execution_count": 20,
   "id": "e926b00a",
   "metadata": {},
   "outputs": [
    {
     "data": {
      "image/png": "[encoded data removed]",
      "text/plain": [
       "<Figure size 432x288 with 1 Axes>"
      ]
     },
     "metadata": {
      "needs_background": "light"
     },
     "output_type": "display_data"
    }
   ],
   "source": [
    "plt.scatter(X_test,y_test,color='blue')\n",
    "plt.plot(X_test,lr.predict(X_test),color='red')\n",
    "plt.title('Salary vs Years of Experience (Test Data)')\n",
    "plt.xlabel('Years of Experience')\n",
    "plt.ylabel('Salary of an employee')\n",
    "plt.show()"
   ]
  },
  {
   "cell_type": "markdown",
   "id": "005023d2",
   "metadata": {},
   "source": [
    "We see that the predicted data fits the regression line so well\n",
    "\n",
    "#### Calculating the errors so as to check the difference between the actual value and predicted model value... There are certain metrics to find these error such as Mean Squared Error, Root Mean Squared Error and Mean Absolute Error**"
   ]
  },
  {
   "cell_type": "code",
   "execution_count": 21,
   "id": "57030f86",
   "metadata": {},
   "outputs": [
    {
     "name": "stdout",
     "output_type": "stream",
     "text": [
      "Mean Absolute Error of the Model: 2.886579864025407e-16\n",
      "Mean Squared Error of the Model:  3.7963931063761194e-31\n",
      "Root Mean Squared Error of the Model:  1.698993779866603e-08\n"
     ]
    }
   ],
   "source": [
    "from sklearn import metrics\n",
    "print('Mean Absolute Error of the Model:',metrics.mean_absolute_error(y_test,y_pred))\n",
    "print('Mean Squared Error of the Model: ',metrics.mean_squared_error(y_test,y_pred))\n",
    "print('Root Mean Squared Error of the Model: ',np.sqrt(metrics.mean_absolute_error(y_test,y_pred)))"
   ]
  },
  {
   "cell_type": "markdown",
   "id": "31311a63",
   "metadata": {},
   "source": [
    "#### Looking at the values we see that the error is very minute and hence we can see our model gives very accurate values"
   ]
  },
  {
   "cell_type": "code",
   "execution_count": 22,
   "id": "a9c64285",
   "metadata": {},
   "outputs": [],
   "source": [
    "from sklearn.metrics import r2_score"
   ]
  },
  {
   "cell_type": "code",
   "execution_count": 23,
   "id": "3a9820a9",
   "metadata": {},
   "outputs": [
    {
     "data": {
      "text/plain": [
       "1.0"
      ]
     },
     "execution_count": 23,
     "metadata": {},
     "output_type": "execute_result"
    }
   ],
   "source": [
    "r2_score(y_test,y_pred)\n",
    "#This shows that our model is completely accurate\n",
    "#R value lies between 0 to 1. Value of 1 represents it is completely accurate"
   ]
  }
 ],
 "metadata": {
  "kernelspec": {
   "display_name": "Python 3",
   "language": "python",
   "name": "python3"
  },
  "language_info": {
   "codemirror_mode": {
    "name": "ipython",
    "version": 3
   },
   "file_extension": ".py",
   "mimetype": "text/x-python",
   "name": "python",
   "nbconvert_exporter": "python",
   "pygments_lexer": "ipython3",
   "version": "3.9.5"
  }
 },
 "nbformat": 4,
 "nbformat_minor": 5
}
